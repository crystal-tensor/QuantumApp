{
 "cells": [
  {
   "cell_type": "code",
   "execution_count": 1,
   "id": "4aaa7916",
   "metadata": {},
   "outputs": [],
   "source": [
    "from qiskit.circuit.library import U1Gate, HGate\n",
    "from qiskit import QuantumCircuit, execute, Aer, QuantumRegister, ClassicalRegister\n",
    "import math\n",
    "import matplotlib.pyplot as plt\n",
    "from qiskit.visualization import circuit_drawer\n",
    "import cmath\n",
    "import time"
   ]
  },
  {
   "cell_type": "code",
   "execution_count": 2,
   "id": "4f9365f2",
   "metadata": {},
   "outputs": [],
   "source": [
    "def normalize(x):\n",
    "    # 对输入值 x 取模，确保位于 0 到 2π 范围内\n",
    "    mapped_x = x % (2* math.pi)\n",
    "    # 计算原始数据超过2π的倍数\n",
    "    multiplier = x // (2*math.pi)\n",
    "    return mapped_x, multiplier\n",
    "def denormalize(mapped_x, multiplier):\n",
    "    # 使用归一化后的数据和原始数据超过2π的倍数来恢复原始数据\n",
    "    x = mapped_x + multiplier * (2* math.pi)\n",
    "    return x"
   ]
  },
  {
   "cell_type": "code",
   "execution_count": 3,
   "id": "82cf9ddf",
   "metadata": {},
   "outputs": [],
   "source": [
    "float1 = 6\n",
    "float2 = 12"
   ]
  },
  {
   "cell_type": "code",
   "execution_count": 4,
   "id": "47fdeb07",
   "metadata": {},
   "outputs": [],
   "source": [
    "import random\n",
    "\n",
    "def random_float64(min_value, max_value):\n",
    "    # 生成一个 64 位浮点数\n",
    "    float_value = random.random()\n",
    "    # 将浮点数乘以最大值和最小值的差，并加上最小值\n",
    "    float_value = float_value * (max_value - min_value) + min_value\n",
    "    return float_value\n",
    "\n",
    "# 生成两个 64 位浮点数，并且要大于千亿\n",
    "# float1 = random_float64(1000000000, 9999999999)\n",
    "# float2 = random_float64(1000000000, 9999999999)\n",
    "\n",
    "# print(float1)\n",
    "# print(float2)\n"
   ]
  },
  {
   "cell_type": "code",
   "execution_count": 5,
   "id": "05e6b1a2",
   "metadata": {},
   "outputs": [
    {
     "name": "stdout",
     "output_type": "stream",
     "text": [
      "Normalized value: 6.0, Multiplier: 0.0\n",
      "Normalized value: 5.716814692820414, Multiplier: 1.0\n"
     ]
    }
   ],
   "source": [
    "mapped_x, multiplier = normalize(float1)\n",
    "print(f\"Normalized value: {mapped_x}, Multiplier: {multiplier}\")\n",
    "mapped_y, multipliery = normalize(float2)\n",
    "print(f\"Normalized value: {mapped_y}, Multiplier: {multipliery}\")"
   ]
  },
  {
   "cell_type": "code",
   "execution_count": 6,
   "id": "cf44199b",
   "metadata": {},
   "outputs": [
    {
     "name": "stdout",
     "output_type": "stream",
     "text": [
      "Theta1 (in radians): 6.0\n",
      "Theta2 (in radians): 5.716814692820414\n",
      "Extracted angle (in degrees): 6.283185307179586\n"
     ]
    },
    {
     "name": "stderr",
     "output_type": "stream",
     "text": [
      "/var/folders/_q/vrpgvht92c9d6t6zcv7xx36m0000gn/T/ipykernel_13202/3062781807.py:23: DeprecationWarning: The 'qiskit.Aer' entry point is deprecated and will be removed in Qiskit 1.0. You should use 'qiskit_aer.Aer' directly instead.\n",
      "  simulator = Aer.get_backend('statevector_simulator')\n",
      "/var/folders/_q/vrpgvht92c9d6t6zcv7xx36m0000gn/T/ipykernel_13202/3062781807.py:24: DeprecationWarning: The function ``qiskit.execute_function.execute()`` is deprecated as of qiskit 0.46.0. It will be removed in the Qiskit 1.0 release. This function combines ``transpile`` and ``backend.run``, which is covered by ``Sampler`` :mod:`~qiskit.primitives`. Alternatively, you can also run :func:`.transpile` followed by ``backend.run()``.\n",
      "  job = execute(qc, simulator)\n"
     ]
    }
   ],
   "source": [
    "start_time = time.time()\n",
    "# 创建一个量子电路\n",
    "qc = QuantumCircuit(1,1)\n",
    "# theta1 = float1 * (2 * math.pi) / 360  # 将角度转换为弧度\n",
    "# theta2 = float2 * (2 * math.pi) / 360  # 将角度转换为弧度\n",
    "theta1 = mapped_x   # 将角度转换为弧度\n",
    "theta2 = mapped_y   # 将角度转换为弧度\n",
    "print(\"Theta1 (in radians):\", theta1)\n",
    "print(\"Theta2 (in radians):\", theta2)\n",
    "\n",
    "# 在每个U1门之前添加Hadamard门\n",
    "h_gate = HGate()\n",
    "u1_gate1 = U1Gate(theta1)\n",
    "u1_gate2 = U1Gate(theta2)\n",
    "\n",
    "qc.append(h_gate, [0])\n",
    "qc.append(u1_gate1, [0])\n",
    "# qc.append(h_gate, [0])\n",
    "qc.append(u1_gate2, [0])\n",
    "# qc.measure_all()\n",
    "qc.measure(0,0)\n",
    "# 获取量子电路的状态向量\n",
    "simulator = Aer.get_backend('statevector_simulator')\n",
    "job = execute(qc, simulator)\n",
    "statevector = job.result().get_statevector(qc)\n",
    "\n",
    "# print(\"Statevector:\", statevector)\n",
    "\n",
    "# Extract phase from the second component of the statevector\n",
    "component = statevector[1]\n",
    "phase = cmath.phase(component)\n",
    "\n",
    "# Convert phase from radians to degrees\n",
    "angle_in_degrees = phase % (2*math.pi)\n",
    "output = denormalize(angle_in_degrees, multiplier+multipliery)\n",
    "# print(\"Extracted angle (in degrees):\", angle_in_degrees)\n",
    "print(\"Extracted angle (in degrees):\", output)\n",
    "# 记录结束时间\n",
    "end_time = time.time()\n",
    "# 计算运行时间\n",
    "runtime1 = end_time - start_time"
   ]
  },
  {
   "cell_type": "code",
   "execution_count": 7,
   "id": "bbc15632",
   "metadata": {},
   "outputs": [
    {
     "name": "stdout",
     "output_type": "stream",
     "text": [
      "Runtime1 (in seconds): 0.13372302055358887\n"
     ]
    }
   ],
   "source": [
    "print(\"Runtime1 (in seconds):\", runtime1)"
   ]
  },
  {
   "cell_type": "code",
   "execution_count": 8,
   "id": "d3ff9b27",
   "metadata": {},
   "outputs": [
    {
     "name": "stdout",
     "output_type": "stream",
     "text": [
      "real: 18.0\n"
     ]
    }
   ],
   "source": [
    "#比较时间\n",
    "start_time = time.time()\n",
    "# real=float1 + float2\n",
    "real = denormalize(mapped_x+mapped_y, multiplier+multipliery)\n",
    "print(\"real:\", real)\n",
    "# 记录结束时间\n",
    "end_time = time.time()"
   ]
  },
  {
   "cell_type": "code",
   "execution_count": 9,
   "id": "a01b6006",
   "metadata": {},
   "outputs": [
    {
     "name": "stdout",
     "output_type": "stream",
     "text": [
      "Runtime2 (in seconds): 0.00013375282287597656\n",
      "用时比较： 0.1335892677307129\n"
     ]
    }
   ],
   "source": [
    "# 计算运行时间\n",
    "runtime2 = end_time - start_time\n",
    "print(\"Runtime2 (in seconds):\", runtime2)\n",
    "print(\"用时比较：\", runtime1-runtime2)"
   ]
  },
  {
   "cell_type": "code",
   "execution_count": 10,
   "id": "06b997b1",
   "metadata": {},
   "outputs": [
    {
     "name": "stderr",
     "output_type": "stream",
     "text": [
      "/Users/danielcrystal/work/new_env/lib/python3.11/site-packages/qiskit/visualization/circuit/matplotlib.py:266: FutureWarning: The default matplotlib drawer scheme will be changed to \"iqp\" in a following release. To silence this warning, specify the current default explicitly as style=\"clifford\", or the new default as style=\"iqp\".\n",
      "  self._style, def_font_ratio = load_style(self._style)\n"
     ]
    },
    {
     "data": {
      "image/png": "[encoded data removed]",
      "text/plain": [
       "<Figure size 600x400 with 1 Axes>"
      ]
     },
     "metadata": {},
     "output_type": "display_data"
    }
   ],
   "source": [
    "# 绘制电路图形\n",
    "fig = plt.figure(figsize=(6, 4))\n",
    "ax = fig.add_subplot(111)\n",
    "# 使用circuit_drawer绘制电路\n",
    "circuit_drawer(qc, output='mpl', ax=ax)\n",
    "plt.show()"
   ]
  },
  {
   "cell_type": "code",
   "execution_count": null,
   "id": "dcd35e3e",
   "metadata": {},
   "outputs": [],
   "source": []
  },
  {
   "cell_type": "code",
   "execution_count": null,
   "id": "8d167ad5",
   "metadata": {},
   "outputs": [],
   "source": []
  }
 ],
 "metadata": {
  "kernelspec": {
   "display_name": "Python 3 (ipykernel)",
   "language": "python",
   "name": "python3"
  },
  "language_info": {
   "codemirror_mode": {
    "name": "ipython",
    "version": 3
   },
   "file_extension": ".py",
   "mimetype": "text/x-python",
   "name": "python",
   "nbconvert_exporter": "python",
   "pygments_lexer": "ipython3",
   "version": "3.11.11"
  }
 },
 "nbformat": 4,
 "nbformat_minor": 5
}
