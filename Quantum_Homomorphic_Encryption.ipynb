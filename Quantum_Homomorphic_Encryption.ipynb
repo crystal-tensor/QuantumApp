{
 "cells": [
  {
   "cell_type": "code",
   "execution_count": 1,
   "id": "9ea843a7",
   "metadata": {},
   "outputs": [],
   "source": [
    "import pandas as pd\n",
    "import numpy as np\n",
    "import time\n",
    "from qiskit import QuantumCircuit, execute, Aer, QuantumRegister, ClassicalRegister\n",
    "from qiskit.visualization import plot_histogram\n",
    "import matplotlib.pyplot as plt\n",
    "from qiskit.visualization import circuit_drawer\n",
    "import math\n",
    "import cmath\n",
    "import time"
   ]
  },
  {
   "cell_type": "code",
   "execution_count": 2,
   "id": "89798b74",
   "metadata": {},
   "outputs": [],
   "source": [
    "def normalize(x, min_value, max_value):\n",
    "    return (x - min_value) / (max_value - min_value)\n",
    "def denormalize(x, min_value, max_value):\n",
    "    return x * (max_value - min_value) + min_value"
   ]
  },
  {
   "cell_type": "code",
   "execution_count": 3,
   "id": "6d5674db",
   "metadata": {},
   "outputs": [],
   "source": [
    "def quantum_homomorphic_encryption(float1, float2):\n",
    "    min_value = min(float1, float2, 0)\n",
    "    max_value = max(float1, float2)\n",
    "    normalized_x = normalize(float1, min_value, max_value)\n",
    "    normalized_y = normalize(float2, min_value, max_value)\n",
    "    theta1 = normalized_x  # 将角度转换为弧度\n",
    "    theta2 = normalized_y  # 将角度转换为弧度\n",
    "    # print(\"Theta1 (in radians):\", theta1)\n",
    "    # print(\"Theta2 (in radians):\", theta2)\n",
    "    normalized_product = normalized_x * normalized_y\n",
    "    # 创建一个8比特的量子电路\n",
    "    qreg = QuantumRegister(3)\n",
    "    creg = ClassicalRegister(1)\n",
    "    qc = QuantumCircuit(qreg, creg)\n",
    "    qc.p(theta1, 0).c_if(creg[0], 1)\n",
    "    qc.p(theta2, 1).c_if(creg[0], 1)\n",
    "    for i in [0, 1]:\n",
    "        qc.measure(qreg[i], creg[0])\n",
    "    qc.p(normalized_product, 2).c_if(creg, 0b11)\n",
    "#     circuit_drawer(qc, output='mpl', ax=ax)\n",
    "#     plt.show()\n",
    "    product = denormalize(normalized_product, min_value, max_value * max_value)\n",
    "    return product # Simplified operation for demonstration"
   ]
  },
  {
   "cell_type": "code",
   "execution_count": 4,
   "id": "f0e9d340",
   "metadata": {},
   "outputs": [],
   "source": [
    "# import random\n",
    "\n",
    "# def random_float64(min_value, max_value):\n",
    "#     # 生成一个 64 位浮点数\n",
    "#     float_value = random.random()\n",
    "#     # 将浮点数乘以最大值和最小值的差，并加上最小值\n",
    "#     float_value = float_value * (max_value - min_value) + min_value\n",
    "#     return float_value\n",
    "\n",
    "# # 生成两个 64 位浮点数，并且要大于千亿\n",
    "# float1 = random_float64(1000000000, 9999999999)\n",
    "# float2 = random_float64(1000000000, 9999999999)\n",
    "\n",
    "# print(float1)\n",
    "# print(float2)"
   ]
  },
  {
   "cell_type": "code",
   "execution_count": 5,
   "id": "e97a9ae9",
   "metadata": {},
   "outputs": [],
   "source": [
    "float1 = 3\n",
    "float2 = 5"
   ]
  },
  {
   "cell_type": "code",
   "execution_count": 6,
   "id": "82488820",
   "metadata": {},
   "outputs": [],
   "source": [
    "start_time = time.time()\n",
    "result= quantum_homomorphic_encryption(float1, float2)\n",
    "end_time = time.time()\n",
    "# 计算运行时间\n",
    "runtime1 = end_time - start_time"
   ]
  },
  {
   "cell_type": "code",
   "execution_count": 7,
   "id": "ecb62fb1",
   "metadata": {},
   "outputs": [
    {
     "name": "stdout",
     "output_type": "stream",
     "text": [
      "15.0\n",
      "0.00021386146545410156\n"
     ]
    }
   ],
   "source": [
    "print(result)\n",
    "print(runtime1)"
   ]
  },
  {
   "cell_type": "code",
   "execution_count": 8,
   "id": "81083600",
   "metadata": {},
   "outputs": [
    {
     "name": "stderr",
     "output_type": "stream",
     "text": [
      "/Users/danielcrystal/work/new_env/lib/python3.11/site-packages/qiskit/visualization/circuit/matplotlib.py:266: FutureWarning: The default matplotlib drawer scheme will be changed to \"iqp\" in a following release. To silence this warning, specify the current default explicitly as style=\"clifford\", or the new default as style=\"iqp\".\n",
      "  self._style, def_font_ratio = load_style(self._style)\n"
     ]
    },
    {
     "data": {
      "text/plain": [
       "<Figure size 640x480 with 0 Axes>"
      ]
     },
     "metadata": {},
     "output_type": "display_data"
    }
   ],
   "source": [
    "qreg = QuantumRegister(3)\n",
    "creg = ClassicalRegister(1)\n",
    "qc = QuantumCircuit(qreg, creg)\n",
    "qc.p(12, 2).c_if(creg[0], 1)\n",
    "# 绘制电路图形\n",
    "# fig = plt.figure(figsize=(6, 4))\n",
    "# ax = fig.add_subplot(111)\n",
    "qc.measure(qreg[2], creg[0])\n",
    "circuit_drawer(qc, output='mpl')\n",
    "plt.savefig('quantum_plus.png')\n",
    "plt.show()"
   ]
  },
  {
   "cell_type": "code",
   "execution_count": 9,
   "id": "2c58469f",
   "metadata": {},
   "outputs": [],
   "source": [
    "# 绘制电路图形\n",
    "qc.measure(qreg[2], creg[0])\n",
    "circuit_drawer(qc, output='mpl')\n",
    "plt.show()"
   ]
  },
  {
   "cell_type": "code",
   "execution_count": 10,
   "id": "fe863c53",
   "metadata": {},
   "outputs": [],
   "source": [
    "min_value = min(float1, float2, 0)\n",
    "max_value = max(float1, float2)\n",
    "normalized_x = normalize(float1, min_value, max_value)\n",
    "normalized_y = normalize(float2, min_value, max_value)\n",
    "theta1 = normalized_x  # 将角度转换为弧度\n",
    "theta2 = normalized_y  # 将角度转换为弧度\n",
    "    # print(\"Theta1 (in radians):\", theta1)\n",
    "    # print(\"Theta2 (in radians):\", theta2)\n",
    "normalized_product = normalized_x * normalized_y\n",
    "    # 创建一个8比特的量子电路\n",
    "qreg = QuantumRegister(3)\n",
    "creg = ClassicalRegister(1)\n",
    "qc = QuantumCircuit(qreg, creg)\n",
    "qc.p(theta1, 0).c_if(creg[0], 1)\n",
    "qc.p(theta2, 1).c_if(creg[0], 1)\n",
    "for i in [0, 1]:\n",
    "        qc.measure(qreg[i], creg[0])\n",
    "qc.p(normalized_product, 2).c_if(creg, 0b11)\n",
    "circuit_drawer(qc, output='mpl')\n",
    "plt.show()"
   ]
  },
  {
   "cell_type": "code",
   "execution_count": 11,
   "id": "190892ed",
   "metadata": {},
   "outputs": [],
   "source": [
    "def classical_computation(float1, float2):\n",
    "    min_value = min(float1, float2, 0)\n",
    "    max_value = max(float1, float2)\n",
    "    normalized_x = normalize(float1, min_value, max_value)\n",
    "    normalized_y = normalize(float2, min_value, max_value)\n",
    "    normalized_product = normalized_x * normalized_y\n",
    "    real = denormalize(normalized_product, min_value, max_value * max_value)\n",
    "    return real  # Simplified operation for demonstration"
   ]
  },
  {
   "cell_type": "code",
   "execution_count": null,
   "id": "3b2a4df1",
   "metadata": {},
   "outputs": [],
   "source": []
  },
  {
   "cell_type": "code",
   "execution_count": null,
   "id": "72268ce2",
   "metadata": {},
   "outputs": [],
   "source": []
  }
 ],
 "metadata": {
  "kernelspec": {
   "display_name": "Python 3 (ipykernel)",
   "language": "python",
   "name": "python3"
  },
  "language_info": {
   "codemirror_mode": {
    "name": "ipython",
    "version": 3
   },
   "file_extension": ".py",
   "mimetype": "text/x-python",
   "name": "python",
   "nbconvert_exporter": "python",
   "pygments_lexer": "ipython3",
   "version": "3.11.11"
  }
 },
 "nbformat": 4,
 "nbformat_minor": 5
}
